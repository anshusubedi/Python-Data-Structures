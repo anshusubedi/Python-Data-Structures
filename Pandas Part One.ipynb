{
 "cells": [
  {
   "cell_type": "code",
   "execution_count": 1,
   "id": "26269c6c-f3d2-4496-bcf8-185592be02d5",
   "metadata": {},
   "outputs": [
    {
     "name": "stdout",
     "output_type": "stream",
     "text": [
      "      Name  Age         City\n",
      "0     Anna   25     New York\n",
      "1      Bob   30  Los Angeles\n",
      "2  Charlie   35      Chicago\n"
     ]
    }
   ],
   "source": [
    "import pandas as pd\n",
    "\n",
    "#Creating a Dataframe from dictionary\n",
    "data = {\n",
    "    'Name': ['Anna', 'Bob', 'Charlie'],\n",
    "    'Age': [25, 30, 35],\n",
    "    'City': ['New York', 'Los Angeles', 'Chicago']\n",
    "}\n",
    "\n",
    "df = pd.DataFrame(data)\n",
    "print(df)\n"
   ]
  },
  {
   "cell_type": "code",
   "execution_count": 5,
   "id": "393378e7-c784-446e-bc0d-07e7646e6b6d",
   "metadata": {},
   "outputs": [
    {
     "name": "stdout",
     "output_type": "stream",
     "text": [
      "      Name  Age         City\n",
      "0     Anna   25     New York\n",
      "1      Bob   30  Los Angeles\n",
      "2  Charlie   35      Chicago\n",
      "<class 'pandas.core.frame.DataFrame'>\n",
      "RangeIndex: 3 entries, 0 to 2\n",
      "Data columns (total 3 columns):\n",
      " #   Column  Non-Null Count  Dtype \n",
      "---  ------  --------------  ----- \n",
      " 0   Name    3 non-null      object\n",
      " 1   Age     3 non-null      int64 \n",
      " 2   City    3 non-null      object\n",
      "dtypes: int64(1), object(2)\n",
      "memory usage: 204.0+ bytes\n",
      "None\n",
      "        Age\n",
      "count   3.0\n",
      "mean   30.0\n",
      "std     5.0\n",
      "min    25.0\n",
      "25%    27.5\n",
      "50%    30.0\n",
      "75%    32.5\n",
      "max    35.0\n"
     ]
    }
   ],
   "source": [
    "#Inspecting the data\n",
    "# Display the first 5 rows of the DataFrame\n",
    "print(df.head())\n",
    "\n",
    "# Display information about the DataFrame (data types, non-null values, etc.)\n",
    "print(df.info())\n",
    "\n",
    "# Get summary statistics for numerical columns\n",
    "print(df.describe())"
   ]
  },
  {
   "cell_type": "code",
   "execution_count": 7,
   "id": "8c9ed3d2-1e4e-4dd9-847f-43d6b2874333",
   "metadata": {},
   "outputs": [
    {
     "name": "stdout",
     "output_type": "stream",
     "text": [
      "0    25\n",
      "1    30\n",
      "2    35\n",
      "Name: Age, dtype: int64\n",
      "      Name         City\n",
      "0     Anna     New York\n",
      "1      Bob  Los Angeles\n",
      "2  Charlie      Chicago\n"
     ]
    }
   ],
   "source": [
    "# Selecting columns\n",
    "# Select one column\n",
    "ages = df['Age']\n",
    "print(ages)\n",
    "\n",
    "# Select multiple columns\n",
    "subset = df[['Name', 'City']]\n",
    "print(subset)"
   ]
  },
  {
   "cell_type": "code",
   "execution_count": 9,
   "id": "195a64d8-1349-4d80-9245-87ba90a1f928",
   "metadata": {},
   "outputs": [
    {
     "name": "stdout",
     "output_type": "stream",
     "text": [
      "      Name  Age         City\n",
      "0     Anna   25     New York\n",
      "1      Bob   30  Los Angeles\n",
      "2  Charlie   35      Chicago\n"
     ]
    }
   ],
   "source": [
    "#Filtering the rows\n",
    "# Filter rows where Age is greater than 30\n",
    "filtered_df = df[df['Age'] > 20]\n",
    "print(filtered_df)\n"
   ]
  },
  {
   "cell_type": "code",
   "execution_count": 11,
   "id": "80c20418-9e85-4724-ab08-6ae295db4aee",
   "metadata": {},
   "outputs": [
    {
     "name": "stdout",
     "output_type": "stream",
     "text": [
      "      Name  Age         City Country\n",
      "0     Anna   25     New York     USA\n",
      "1      Bob   30  Los Angeles     USA\n",
      "2  Charlie   35      Chicago     USA\n"
     ]
    }
   ],
   "source": [
    "#Adding a new column\n",
    "# Add a new column 'Country' with the value 'USA' for all rows\n",
    "df['Country'] = 'USA'\n",
    "print(df)"
   ]
  },
  {
   "cell_type": "code",
   "execution_count": 13,
   "id": "79c4c618-d27c-475e-8a4f-742e34079789",
   "metadata": {},
   "outputs": [
    {
     "name": "stdout",
     "output_type": "stream",
     "text": [
      "      Name  Age         City Country\n",
      "0     Anna   26     New York     USA\n",
      "1      Bob   31  Los Angeles     USA\n",
      "2  Charlie   36      Chicago     USA\n"
     ]
    }
   ],
   "source": [
    "#Modifying data\n",
    "# Increase everyone's age by 1 year\n",
    "df['Age'] = df['Age'] + 1\n",
    "print(df)"
   ]
  },
  {
   "cell_type": "code",
   "execution_count": 15,
   "id": "14434fe4-8aa0-44c2-99da-17408e98927d",
   "metadata": {},
   "outputs": [
    {
     "name": "stdout",
     "output_type": "stream",
     "text": [
      "Name       0\n",
      "Age        0\n",
      "City       0\n",
      "Country    0\n",
      "dtype: int64\n"
     ]
    },
    {
     "name": "stderr",
     "output_type": "stream",
     "text": [
      "C:\\Users\\an_sh\\AppData\\Local\\Temp\\ipykernel_22204\\2991415102.py:6: FutureWarning: A value is trying to be set on a copy of a DataFrame or Series through chained assignment using an inplace method.\n",
      "The behavior will change in pandas 3.0. This inplace method will never work because the intermediate object on which we are setting values always behaves as a copy.\n",
      "\n",
      "For example, when doing 'df[col].method(value, inplace=True)', try using 'df.method({col: value}, inplace=True)' or df[col] = df[col].method(value) instead, to perform the operation inplace on the original object.\n",
      "\n",
      "\n",
      "  df['Age'].fillna(0, inplace=True)\n"
     ]
    }
   ],
   "source": [
    "# Handling Missing Data\n",
    "# Check for missing values\n",
    "print(df.isnull().sum())\n",
    "\n",
    "# Fill missing values with a default value\n",
    "df['Age'].fillna(0, inplace=True)"
   ]
  },
  {
   "cell_type": "code",
   "execution_count": 17,
   "id": "05415df0-d405-4b20-86eb-63b3ddf4084d",
   "metadata": {},
   "outputs": [
    {
     "name": "stdout",
     "output_type": "stream",
     "text": [
      "City\n",
      "Chicago        36.0\n",
      "Los Angeles    31.0\n",
      "New York       26.0\n",
      "Name: Age, dtype: float64\n"
     ]
    }
   ],
   "source": [
    "#Grouping and Aggregating data\n",
    "# Group data by 'City' and calculate the average 'Age'\n",
    "grouped_df = df.groupby('City')['Age'].mean()\n",
    "print(grouped_df)"
   ]
  },
  {
   "cell_type": "code",
   "execution_count": 19,
   "id": "53cf2c41-8c9c-468e-b2e1-13ce42b5f530",
   "metadata": {},
   "outputs": [
    {
     "name": "stdout",
     "output_type": "stream",
     "text": [
      "      Name  Age         City Country\n",
      "2  Charlie   36      Chicago     USA\n",
      "1      Bob   31  Los Angeles     USA\n",
      "0     Anna   26     New York     USA\n"
     ]
    }
   ],
   "source": [
    "#Sorting the data\n",
    "# Sort by 'Age' in descending order\n",
    "sorted_df = df.sort_values(by='Age', ascending=False)\n",
    "print(sorted_df)"
   ]
  },
  {
   "cell_type": "code",
   "execution_count": null,
   "id": "735fffba-bb17-4ba2-addf-e061191e0f73",
   "metadata": {},
   "outputs": [],
   "source": [
    "# Save DataFrame to a CSV file\n",
    "df.to_csv('output.csv', index=False)"
   ]
  }
 ],
 "metadata": {
  "kernelspec": {
   "display_name": "Python 3 (ipykernel)",
   "language": "python",
   "name": "python3"
  },
  "language_info": {
   "codemirror_mode": {
    "name": "ipython",
    "version": 3
   },
   "file_extension": ".py",
   "mimetype": "text/x-python",
   "name": "python",
   "nbconvert_exporter": "python",
   "pygments_lexer": "ipython3",
   "version": "3.12.4"
  }
 },
 "nbformat": 4,
 "nbformat_minor": 5
}
