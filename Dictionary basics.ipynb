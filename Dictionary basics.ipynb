{
 "cells": [
  {
   "cell_type": "code",
   "execution_count": 1,
   "id": "5263f584-b1f5-4aca-a733-224cbe117bc9",
   "metadata": {},
   "outputs": [
    {
     "name": "stdout",
     "output_type": "stream",
     "text": [
      "{'Alex': 25, 'Sarah': 23, 'Jeh': 32}\n"
     ]
    }
   ],
   "source": [
    "# Dictionaries are key-value pairs that provide fast lookups, making them ideal for tasks that involve mapping data.\n",
    "#Create a dictionary\n",
    "person_age = {\"Alex\": 25, \"Sarah\": 23, \"Jeh\": 32}\n",
    "print(person_age)\n"
   ]
  },
  {
   "cell_type": "code",
   "execution_count": 3,
   "id": "b7a92ebf-7562-43e8-b4f2-5a6a0685f1fe",
   "metadata": {},
   "outputs": [
    {
     "name": "stdout",
     "output_type": "stream",
     "text": [
      "{'Alex': 25, 'Sarah': 23, 'Jeh': 32, 'Ashlie': 33}\n"
     ]
    }
   ],
   "source": [
    "#Add a new key-value pair\n",
    "person_age[\"Ashlie\"]= 33\n",
    "print(person_age)\n"
   ]
  },
  {
   "cell_type": "code",
   "execution_count": 7,
   "id": "566d8544-e9de-4ac9-9dce-d75d08d4cdee",
   "metadata": {},
   "outputs": [
    {
     "name": "stdout",
     "output_type": "stream",
     "text": [
      "25\n"
     ]
    }
   ],
   "source": [
    "#Access a value by key\n",
    "alex_age = person_age[\"Alex\"]\n",
    "print(alex_age)"
   ]
  },
  {
   "cell_type": "code",
   "execution_count": 29,
   "id": "5a509793-a753-4338-814e-9e31c1d8b43a",
   "metadata": {},
   "outputs": [
    {
     "name": "stdout",
     "output_type": "stream",
     "text": [
      "Alex is 25 years old\n",
      "Ashlie is 33 years old\n"
     ]
    }
   ],
   "source": [
    "#iterating through dictionary\n",
    "#iterating through keys and values\n",
    "for name, age in person_age.items():\n",
    "    print(f\"{name} is {age} years old\")"
   ]
  },
  {
   "cell_type": "code",
   "execution_count": 31,
   "id": "86853566-4d7c-4ae7-a1c8-7d8f35322530",
   "metadata": {},
   "outputs": [
    {
     "name": "stdout",
     "output_type": "stream",
     "text": [
      "The average age is 29.00\n"
     ]
    }
   ],
   "source": [
    "#finding average age\n",
    "average_age = sum(person_age.values()) / len(person_age)\n",
    "print(f\"The average age is {average_age:.2f}\")"
   ]
  },
  {
   "cell_type": "code",
   "execution_count": 37,
   "id": "aa527d3e-bb49-490f-9b74-d936841a6ad5",
   "metadata": {},
   "outputs": [
    {
     "name": "stdout",
     "output_type": "stream",
     "text": [
      "Ashlie\n",
      "Alex\n"
     ]
    }
   ],
   "source": [
    "#finding the eldest and youngest person\n",
    "oldest_person = max(person_age, key=person_age.get)\n",
    "youngest_person = min(person_age, key=person_age.get)\n",
    "print(oldest_person)\n",
    "print(youngest_person)"
   ]
  },
  {
   "cell_type": "code",
   "execution_count": 41,
   "id": "c60e8e2d-ed49-4820-b359-95820e1eed77",
   "metadata": {},
   "outputs": [
    {
     "name": "stdout",
     "output_type": "stream",
     "text": [
      "Alex is in the dataset\n"
     ]
    }
   ],
   "source": [
    "#checking if a key exists in the dataset\n",
    "if 'Alex' in person_age:\n",
    "    print(\"Alex is in the dataset\")\n",
    "else:\n",
    "    print(\"Alex is not in the dataset\")\n"
   ]
  }
 ],
 "metadata": {
  "kernelspec": {
   "display_name": "Python 3 (ipykernel)",
   "language": "python",
   "name": "python3"
  },
  "language_info": {
   "codemirror_mode": {
    "name": "ipython",
    "version": 3
   },
   "file_extension": ".py",
   "mimetype": "text/x-python",
   "name": "python",
   "nbconvert_exporter": "python",
   "pygments_lexer": "ipython3",
   "version": "3.12.4"
  }
 },
 "nbformat": 4,
 "nbformat_minor": 5
}
