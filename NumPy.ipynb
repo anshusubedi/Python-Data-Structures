{
 "cells": [
  {
   "cell_type": "code",
   "execution_count": null,
   "id": "a84e0525-a588-4023-86d1-2f1566f8df51",
   "metadata": {},
   "outputs": [],
   "source": [
    "import numpy as np\n",
    "#Creating array\n",
    "\n",
    "\n",
    "# Creating a 1D array\n",
    "array_1d = np.array([1, 2, 3, 4, 5])\n",
    "\n",
    "# Creating a 2D array\n",
    "array_2d = np.array([[1, 2, 3], [4, 5, 6]])\n",
    "\n",
    "# Creating an array of zeros\n",
    "zeros_array = np.zeros((3, 3))\n",
    "\n",
    "# Creating an array of ones\n",
    "ones_array = np.ones((2, 4))\n",
    "\n",
    "# Creating an array with a range of numbers\n",
    "range_array = np.arange(0, 10, 2)\n"
   ]
  },
  {
   "cell_type": "code",
   "execution_count": null,
   "id": "cf7f8bec-6e0d-4a80-86c0-5ea231b24dd2",
   "metadata": {},
   "outputs": [],
   "source": [
    "# Slicing and Indexing\n",
    "# Accessing an element\n",
    "element = array_2d[1, 2]  # Output: 6\n",
    "\n",
    "# Slicing an array\n",
    "sub_array = array_1d[1:4]  # Output: [2, 3, 4]\n",
    "\n",
    "# Modifying an element\n",
    "array_1d[0] = 10  # Now array_1d is [10, 2, 3, 4, 5]\n"
   ]
  },
  {
   "cell_type": "code",
   "execution_count": null,
   "id": "f508b81c-c4eb-4734-bb6f-aba1e7ddeea8",
   "metadata": {},
   "outputs": [],
   "source": [
    "# Mathematical Functions\n",
    "# Square root of each element\n",
    "sqrt_array = np.sqrt(array_1d)\n",
    "\n",
    "# Exponential of each element\n",
    "exp_array = np.exp(array_1d)\n",
    "\n"
   ]
  },
  {
   "cell_type": "code",
   "execution_count": null,
   "id": "a8e06c52-9e42-494b-8c3b-4ef3f2a732b9",
   "metadata": {},
   "outputs": [],
   "source": [
    "#Aggregations\n",
    "# Sum of all elements\n",
    "total_sum = np.sum(array_1d)\n",
    "\n",
    "# Mean of all elements\n",
    "mean_value = np.mean(array_1d)\n",
    "\n",
    "# Standard deviation of all elements\n",
    "std_dev = np.std(array_1d)"
   ]
  },
  {
   "cell_type": "code",
   "execution_count": null,
   "id": "6d1dd135-89f1-4d26-be75-e8e0ed4cb8fd",
   "metadata": {},
   "outputs": [],
   "source": [
    "#Reshaping arrays\n",
    "# Reshape a 1D array to a 2D array\n",
    "reshaped_array = np.reshape(array_1d, (1, 5))\n",
    "\n",
    "# Flatten a 2D array to a 1D array\n",
    "flattened_array = array_2d.flatten()"
   ]
  },
  {
   "cell_type": "code",
   "execution_count": null,
   "id": "5da2a411-7018-4a22-8c24-8e33b3bc28d2",
   "metadata": {},
   "outputs": [],
   "source": [
    "#Random Number Generation\n",
    "# Generate an array of random numbers between 0 and 1\n",
    "random_array = np.random.rand(3, 3)\n",
    "\n",
    "# Generate an array of random integers between a specified range\n",
    "random_integers = np.random.randint(0, 10, (3, 3))"
   ]
  },
  {
   "cell_type": "code",
   "execution_count": null,
   "id": "9504715c-3537-4142-9c40-1fcd88c0a02b",
   "metadata": {},
   "outputs": [],
   "source": [
    "#2D Numpy array\n",
    "#Creating a simple 2D numPy array\n",
    "# Creating a 2D array (2 rows and 3 columns)\n",
    "array_2d = np.array([[1, 2, 3], [4, 5, 6]])\n"
   ]
  },
  {
   "cell_type": "code",
   "execution_count": null,
   "id": "e2492f07-f086-4e29-9edd-47267e89e810",
   "metadata": {},
   "outputs": [],
   "source": [
    "#Accessing elements in a 2D array\n",
    "# Access the element in the first row, second column\n",
    "element = array_2d[0, 1]"
   ]
  },
  {
   "cell_type": "code",
   "execution_count": null,
   "id": "d51088a2-0c7e-4e5e-9fb4-0bd7a212f009",
   "metadata": {},
   "outputs": [],
   "source": [
    "#Simple operations in a 2D array\n",
    "# Add 10 to every element in the array\n",
    "array_add = array_2d + 10\n",
    "print(array_add)"
   ]
  },
  {
   "cell_type": "code",
   "execution_count": null,
   "id": "5b6135fd-63e4-4f7c-a951-ee80e86e5c8c",
   "metadata": {},
   "outputs": [],
   "source": [
    "#sum of all the elements\n",
    "# Calculate the sum of all elements in the array\n",
    "total_sum = np.sum(array_2d)"
   ]
  },
  {
   "cell_type": "code",
   "execution_count": null,
   "id": "a8dc74f7-84dc-4724-8f02-348cf1d42edb",
   "metadata": {},
   "outputs": [],
   "source": [
    "#mean of all the elements\n",
    "mean_value = np.mean(array_2d)"
   ]
  }
 ],
 "metadata": {
  "kernelspec": {
   "display_name": "Python 3 (ipykernel)",
   "language": "python",
   "name": "python3"
  },
  "language_info": {
   "codemirror_mode": {
    "name": "ipython",
    "version": 3
   },
   "file_extension": ".py",
   "mimetype": "text/x-python",
   "name": "python",
   "nbconvert_exporter": "python",
   "pygments_lexer": "ipython3",
   "version": "3.12.4"
  }
 },
 "nbformat": 4,
 "nbformat_minor": 5
}
