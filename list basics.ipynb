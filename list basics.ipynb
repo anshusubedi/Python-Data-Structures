{
 "cells": [
  {
   "cell_type": "code",
   "execution_count": 1,
   "id": "f6bd9f08-2d0c-4229-89f8-5dedd84b412a",
   "metadata": {},
   "outputs": [],
   "source": [
    "#Create a list\n",
    "numbers = [3,5,6,2,9,12,17]\n"
   ]
  },
  {
   "cell_type": "code",
   "execution_count": 7,
   "id": "89c38180-3d56-44d3-aa69-e958f0b78395",
   "metadata": {},
   "outputs": [
    {
     "name": "stdout",
     "output_type": "stream",
     "text": [
      "[3, 5, 6, 2, 9, 12, 17, 25]\n"
     ]
    }
   ],
   "source": [
    "#Add element to a list\n",
    "numbers.append(25)\n",
    "print(numbers)\n",
    "\n"
   ]
  },
  {
   "cell_type": "code",
   "execution_count": 17,
   "id": "f5970cdb-e6f1-4924-9fd6-fb29e55b542a",
   "metadata": {},
   "outputs": [
    {
     "name": "stdout",
     "output_type": "stream",
     "text": [
      "[3, 6, 2, 9, 25]\n"
     ]
    }
   ],
   "source": [
    "#Remove element\n",
    "numbers.remove(17)\n",
    "print(numbers)\n"
   ]
  },
  {
   "cell_type": "code",
   "execution_count": 21,
   "id": "1d1354a5-55d7-48aa-9335-24e8f0dfa82b",
   "metadata": {},
   "outputs": [
    {
     "name": "stdout",
     "output_type": "stream",
     "text": [
      "25\n"
     ]
    }
   ],
   "source": [
    "#Access an element at a given index\n",
    "element = numbers[4]\n",
    "print(element)"
   ]
  },
  {
   "cell_type": "code",
   "execution_count": 23,
   "id": "2bb93bea-bc95-4064-a6a8-736ac8008a23",
   "metadata": {},
   "outputs": [
    {
     "name": "stdout",
     "output_type": "stream",
     "text": [
      "[9, 36, 4, 81, 625]\n"
     ]
    }
   ],
   "source": [
    "#Create a new list of the squares\n",
    "squares = [x**2 for x in numbers]\n",
    "print(squares)"
   ]
  },
  {
   "cell_type": "code",
   "execution_count": 29,
   "id": "b4efdd56-3134-47f1-830c-c83035ae733c",
   "metadata": {},
   "outputs": [
    {
     "name": "stdout",
     "output_type": "stream",
     "text": [
      "5\n"
     ]
    }
   ],
   "source": [
    "#finding the length of a list\n",
    "length = len(numbers)\n",
    "print(length)"
   ]
  },
  {
   "cell_type": "code",
   "execution_count": 37,
   "id": "43e120f7-a815-4327-8a6e-c13ec12852d1",
   "metadata": {},
   "outputs": [
    {
     "name": "stdout",
     "output_type": "stream",
     "text": [
      "['apple', 'banana', 'cherry', 'pineapple', 'mango']\n",
      "['apple', 'banana', 'pineapple', 'mango']\n"
     ]
    }
   ],
   "source": [
    "#Create a new list\n",
    "fruits = [\"apple\", \"banana\", \"cherry\", \"pineapple\"]\n",
    "fruits.append(\"mango\")\n",
    "print(fruits)\n",
    "fruits.remove(\"cherry\")\n",
    "print(fruits)"
   ]
  },
  {
   "cell_type": "code",
   "execution_count": 41,
   "id": "d89935f5-b8db-43ac-b8d1-6f5b9b2e5b4d",
   "metadata": {},
   "outputs": [
    {
     "name": "stdout",
     "output_type": "stream",
     "text": [
      "['apple', 'banana', 'strawberry', 'pineapple', 'mango']\n"
     ]
    }
   ],
   "source": [
    "#Insert an element at a specific index\n",
    "fruits.insert(2,\"strawberry\")\n",
    "print(fruits)"
   ]
  },
  {
   "cell_type": "code",
   "execution_count": 43,
   "id": "42455d40-878d-4ea7-9992-94123bcc1b50",
   "metadata": {},
   "outputs": [
    {
     "name": "stdout",
     "output_type": "stream",
     "text": [
      "banana is in the list\n"
     ]
    }
   ],
   "source": [
    "#checking for an element\n",
    "if \"banana\" in fruits:\n",
    "    print(\"banana is in the list\")\n",
    "    "
   ]
  },
  {
   "cell_type": "code",
   "execution_count": 45,
   "id": "1097f0d9-e38d-401d-8647-d9a982b92753",
   "metadata": {},
   "outputs": [
    {
     "name": "stdout",
     "output_type": "stream",
     "text": [
      "['apple', 'banana', 'mango', 'pineapple', 'strawberry']\n"
     ]
    }
   ],
   "source": [
    "#sort the list\n",
    "fruits.sort()\n",
    "print(fruits)"
   ]
  },
  {
   "cell_type": "code",
   "execution_count": 47,
   "id": "97caf778-e65a-4618-a72a-d6a50cbeb20c",
   "metadata": {},
   "outputs": [
    {
     "name": "stdout",
     "output_type": "stream",
     "text": [
      "['strawberry', 'pineapple', 'mango', 'banana', 'apple']\n"
     ]
    }
   ],
   "source": [
    "#reverse the list\n",
    "fruits.reverse()\n",
    "print(fruits)"
   ]
  },
  {
   "cell_type": "code",
   "execution_count": 53,
   "id": "f347a2b5-5534-4295-9d0e-637a1699d3f7",
   "metadata": {},
   "outputs": [
    {
     "name": "stdout",
     "output_type": "stream",
     "text": [
      "['strawberry', 'pineapple', 'mango', 'banana', 'apple', 'broccoli', 'carrot']\n"
     ]
    }
   ],
   "source": [
    "#Joining list\n",
    "vegetables = [\"broccoli\", \"carrot\"]\n",
    "food = fruits + vegetables\n",
    "print(food)"
   ]
  },
  {
   "cell_type": "code",
   "execution_count": 57,
   "id": "f4d8ae58-0951-41e7-bc1b-ce82750d24f3",
   "metadata": {},
   "outputs": [
    {
     "name": "stdout",
     "output_type": "stream",
     "text": [
      "[]\n"
     ]
    }
   ],
   "source": [
    "#clearing list\n",
    "fruits.clear()\n",
    "print(fruits)\n"
   ]
  },
  {
   "cell_type": "code",
   "execution_count": null,
   "id": "290f9129-067e-45d3-9d4f-34a6fa271dce",
   "metadata": {},
   "outputs": [],
   "source": []
  }
 ],
 "metadata": {
  "kernelspec": {
   "display_name": "Python 3 (ipykernel)",
   "language": "python",
   "name": "python3"
  },
  "language_info": {
   "codemirror_mode": {
    "name": "ipython",
    "version": 3
   },
   "file_extension": ".py",
   "mimetype": "text/x-python",
   "name": "python",
   "nbconvert_exporter": "python",
   "pygments_lexer": "ipython3",
   "version": "3.12.4"
  }
 },
 "nbformat": 4,
 "nbformat_minor": 5
}
